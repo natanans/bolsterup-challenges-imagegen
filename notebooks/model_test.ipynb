{
 "cells": [
  {
   "cell_type": "code",
   "execution_count": 26,
   "metadata": {},
   "outputs": [
    {
     "name": "stdout",
     "output_type": "stream",
     "text": [
      "The autoreload extension is already loaded. To reload it, use:\n",
      "  %reload_ext autoreload\n"
     ]
    }
   ],
   "source": [
    "%load_ext autoreload\n",
    "%autoreload\n"
   ]
  },
  {
   "cell_type": "code",
   "execution_count": 27,
   "metadata": {},
   "outputs": [],
   "source": [
    "import sys\n",
    "\n",
    "sys.path.append('../')"
   ]
  },
  {
   "cell_type": "code",
   "execution_count": 28,
   "metadata": {},
   "outputs": [
    {
     "name": "stdout",
     "output_type": "stream",
     "text": [
      "\n",
      "=== Landmark Information ===\n",
      "{\n",
      "    \"description\": \"The Burj Al Arab is a luxury hotel located in Dubai, United Arab Emirates. It is known for its distinctive sail-shaped design and is considered one of the most luxurious hotels in the world.\",\n",
      "    \"architects\": \"Tom Wright of WKK Architects\",\n",
      "    \"construction_year\": \"1999\",\n",
      "    \"materials\": \"Concrete, steel, and glass\",\n",
      "    \"interesting_facts\": \"The hotel stands on an artificial island, 280 meters offshore., The Burj Al Arab is the only 7-star hotel in the world.\",\n",
      "    \"dimensions\": \"Height: 321 meters (1,053 ft); Number of floors: 60\",\n",
      "    \"construction_cost\": \"1.5 billion USD\",\n",
      "    \"cultural_significance\": \"Symbol of Dubai's engineering prowess and luxury tourism industry\",\n",
      "    \"geographical_location\": \"Off the coast of Dubai, United Arab Emirates\",\n",
      "    \"image_generation_prompt\": \"Generate an image of the iconic Burj Al Arab hotel in Dubai, showcasing its sail-shaped design and luxurious architecture.\",\n",
      "    \"error\": null\n",
      "}\n"
     ]
    }
   ],
   "source": [
    "from src.models import LLMRetriever\n",
    "#LLMAPIKEY = \"\"\n",
    "\n",
    "#Instantiate the retriever\n",
    "retriever = LLMRetriever(api_key)\n",
    "\n",
    "# Prompt user for a landmark name\n",
    "landmark_name = input(\"Enter the name of a landmark (e.g., 'One World Trade Center, NYC'): \")\n",
    "\n",
    "# Fetch and display landmark information\n",
    "landmark_details = retriever.fetch_landmark_details(landmark_name)\n",
    "print(\"\\n=== Landmark Information ===\")\n",
    "# Print the processed response with proper formatting\n",
    "# Print the processed response with proper formatting\n",
    "print(landmark_details.model_dump_json(indent=4))\n"
   ]
  },
  {
   "cell_type": "code",
   "execution_count": 33,
   "metadata": {},
   "outputs": [],
   "source": [
    "import json\n",
    "json.loads(landmark_details.model_dump_json(indent=4))['error']"
   ]
  },
  {
   "cell_type": "code",
   "execution_count": 29,
   "metadata": {},
   "outputs": [
    {
     "name": "stdout",
     "output_type": "stream",
     "text": [
      "Image saved as generated_images/2c5d532ef5a64f47a8b21a0619253b78.jpg\n",
      "Generated image path: generated_images/2c5d532ef5a64f47a8b21a0619253b78.jpg\n"
     ]
    }
   ],
   "source": [
    "from src.models import ReplicateImageGenerator\n",
    "\n",
    "api_token = \"\"\n",
    "generator = ReplicateImageGenerator(api_token=api_token)\n",
    "\n",
    "model = \"black-forest-labs/flux-pro\"\n",
    "input_params = {\n",
    "    \"width\": 1024,\n",
    "    \"height\": 1024,\n",
    "    \"prompt\": \"Generate an image of the iconic Burj Al Arab hotel in Dubai, showcasing its sail-shaped design and luxurious architecture.\"\n",
    "\n",
    "}\n",
    "output_path = generator.generate_image(model, input_params)\n",
    "print(f\"Generated image path: {output_path}\")"
   ]
  },
  {
   "cell_type": "code",
   "execution_count": 48,
   "metadata": {},
   "outputs": [
    {
     "name": "stdout",
     "output_type": "stream",
     "text": [
      "Image saved as generated_images/cb4cfad4c4814f9987eab95db9ed7aed.jpg\n"
     ]
    },
    {
     "data": {
      "text/plain": [
       "LandmarkResponse(description=\"The Eiffel Tower is an iron lattice tower located in Paris, France, built for the 1889 World's Fair. It was intended to be a temporary structure, but it became an instant icon of Paris and a symbol of French culture and engineering ingenuity.\", architects='Gustave Eiffel, Maurice Koechlin, Émile Nouguier', construction_year='1889', materials='Iron lattice, Wrought iron', interesting_facts='The Eiffel Tower was originally intended to be a temporary structure, but it became an instant icon of Paris., It was the tallest man-made structure in the world when it was first built.', dimensions='Height: 324 meters (1,063 ft), Base dimensions: 125 meters (410 ft) square', construction_cost='Approximately 8 million French gold francs (around $1.5 million USD in 1889)', cultural_significance='The Eiffel Tower is a symbol of French culture and engineering ingenuity, and one of the most recognizable landmarks in the world.', geographical_location='Paris, France, on the Champ de Mars, near the Seine River', image_generation_prompt=\"Generate an image of the iconic Eiffel Tower at sunset, with the iron lattice structure lit up against a warm orange sky, surrounded by the City of Light's charming streets and buildings.\", error=None)"
      ]
     },
     "execution_count": 48,
     "metadata": {},
     "output_type": "execute_result"
    }
   ],
   "source": [
    "import json\n",
    "\n",
    "\n",
    "class LandmarkProcessor:\n",
    "    \"\"\"\n",
    "    A class to handle both landmark information retrieval and image generation.\n",
    "    \"\"\"\n",
    "    def __init__(self, api_key: str, replicate_api_token: str):\n",
    "        \"\"\"\n",
    "        Initialize the LandmarkProcessor with API keys for LLMRetriever and ReplicateImageGenerator.\n",
    "        \"\"\"\n",
    "        self.retriever = LLMRetriever(api_key)\n",
    "        self.generator = ReplicateImageGenerator(api_token=replicate_api_token)\n",
    "\n",
    "    def process_landmark(self, landmark_name: str) -> str:\n",
    "        \"\"\"\n",
    "        Fetch landmark details and generate an image based on the retrieved details.\n",
    "\n",
    "        Args:\n",
    "            landmark_name (str): The name of the landmark.\n",
    "\n",
    "        Returns:\n",
    "            str: Path to the generated image.\n",
    "        \n",
    "        Raises:\n",
    "            ValueError: If an error exists in the landmark retrieval response.\n",
    "        \"\"\"\n",
    "        # Fetch landmark details\n",
    "        landmark_details = self.retriever.fetch_landmark_details(landmark_name)\n",
    "\n",
    "        # Convert landmark details to JSON\n",
    "        landmark_json = json.loads(landmark_details.model_dump_json(indent=4))\n",
    "\n",
    "       # Check for errors in the response\n",
    "        if \"error\" in landmark_json and landmark_json[\"error\"]:\n",
    "            raise ValueError(f\"Error fetching landmark details: {landmark_json['error']}\")\n",
    "\n",
    "        # Check for 'no_value' in more than one key\n",
    "        no_value_count = sum(1 for key, value in landmark_json.items() if value == 'no_value')\n",
    "        if no_value_count > 1:\n",
    "            raise ValueError(f\"Error fetching landmark details: Multiple fields contain 'no_value'.\")\n",
    "\n",
    "        # Build the image generation prompt using all relevant keys\n",
    "        prompt_parts = [\n",
    "            f\"Description: {landmark_json.get('description', 'No description available.')}\",\n",
    "            f\"Architects: {landmark_json.get('architects', 'No architects available.')}\",\n",
    "            f\"Construction Year: {landmark_json.get('construction_year', 'No year available.')}\",\n",
    "            f\"Materials: {landmark_json.get('materials', 'No materials available.')}\",\n",
    "            f\"Interesting Facts: {landmark_json.get('interesting_facts', 'No facts available.')}\",\n",
    "            f\"Dimensions: {landmark_json.get('dimensions', 'No dimensions available.')}\",\n",
    "            f\"Construction Cost: {landmark_json.get('construction_cost', 'No cost available.')}\",\n",
    "            f\"Cultural Significance: {landmark_json.get('cultural_significance', 'No significance available.')}\",\n",
    "            f\"Geographical Location: {landmark_json.get('geographical_location', 'No location available.')}\",\n",
    "        ]\n",
    "\n",
    "        # Add the main image generation prompt\n",
    "        prompt_parts.append(\n",
    "            f\"Image Prompt: {landmark_json.get('image_generation_prompt', 'No prompt available.')}\"\n",
    "        )\n",
    "\n",
    "        # Combine all parts into a single prompt\n",
    "        full_prompt = \"\\n\".join(prompt_parts)\n",
    "\n",
    "        # Generate and save the image\n",
    "        output_path = self.generator.generate_image(\n",
    "            model=\"black-forest-labs/flux-pro\",\n",
    "            input_params={\n",
    "                \"width\": 1024,\n",
    "                \"height\": 1024,\n",
    "                \"prompt\": full_prompt\n",
    "            }\n",
    "        )\n",
    "        return output_path, landmark_details\n",
    "\n",
    "\n",
    "#from PIL import Image\n",
    "\n",
    "\n",
    "api_key = \"\"\n",
    "replicate_api_token = \"\"\n",
    "\n",
    "# Initialize the processor\n",
    "processor = LandmarkProcessor(api_key=api_key, replicate_api_token=replicate_api_token)\n",
    "\n",
    "# Call the LandmarkProcessor to generate the image and get JSON data\n",
    "image_path, landmark_details = processor.process_landmark(\"eifel tower\")\n",
    "\n",
    "\n",
    "landmark_details"
   ]
  },
  {
   "cell_type": "code",
   "execution_count": null,
   "metadata": {},
   "outputs": [],
   "source": []
  }
 ],
 "metadata": {
  "kernelspec": {
   "display_name": "apple_dreamshakemedia_analytics",
   "language": "python",
   "name": "python3"
  },
  "language_info": {
   "codemirror_mode": {
    "name": "ipython",
    "version": 3
   },
   "file_extension": ".py",
   "mimetype": "text/x-python",
   "name": "python",
   "nbconvert_exporter": "python",
   "pygments_lexer": "ipython3",
   "version": "3.10.0"
  }
 },
 "nbformat": 4,
 "nbformat_minor": 2
}
